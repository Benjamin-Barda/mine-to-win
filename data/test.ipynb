{
 "cells": [
  {
   "cell_type": "code",
   "execution_count": 1,
   "metadata": {},
   "outputs": [],
   "source": [
    "names =  [f\"..\\\\jsons\\\\rePARSEDOUTPUT-creeper{i}.json\" for i in range(1, 11)]\n",
    "names += [f\"..\\\\jsons\\\\rePARSEDOUTPUT-pig{i}.json\" for i in range(1, 11)]\n",
    "names += [f\"..\\\\jsons\\\\rePARSEDOUTPUT-zombie{i}.json\" for i in range(1, 10)]\n",
    "names += [f\"..\\\\jsons\\\\rePARSEDOUTPUT-sheep{i}.json\" for i in range(1, 10)]"
   ]
  },
  {
   "cell_type": "code",
   "execution_count": 2,
   "metadata": {},
   "outputs": [],
   "source": [
    "import pandas as pd"
   ]
  },
  {
   "cell_type": "code",
   "execution_count": 3,
   "metadata": {},
   "outputs": [],
   "source": [
    "df_iter = (pd.read_json(src).T for src in names)\n",
    "df = pd.concat(df_iter).T.drop([\"purge\", \"written\"]).T.sample(frac=1)"
   ]
  },
  {
   "cell_type": "code",
   "execution_count": 4,
   "metadata": {},
   "outputs": [],
   "source": [
    "import cv2\n",
    "import numpy as np\n",
    "\n",
    "\n",
    "images = np.asarray(\n",
    "   [cv2.imread(\"..\\\\imgs\\\\frames_new\\\\\" + i) \n",
    "   for i in df.index]\n",
    "   )\n",
    "images = np.asarray(images, dtype = \"uint8\")\n",
    "labels = np.asarray( 4 * df[\"Sheep\"].astype(bool).astype(int) + 3 * df[\"Zombie\"].astype(bool).astype(int)\n",
    "                   + 2 * df[\"Pig\"].astype(bool).astype(int) + df[\"Creeper\"].astype(bool).astype(int), dtype=\"int64\")\n",
    "boundings = list(zip(df[\"Creeper\"], df[\"Pig\"], df[\"Zombie\"], df[\"Sheep\"]))"
   ]
  },
  {
   "cell_type": "code",
   "execution_count": 5,
   "metadata": {},
   "outputs": [
    {
     "data": {
      "text/plain": [
       "array([0, 4])"
      ]
     },
     "metadata": {},
     "output_type": "display_data"
    },
    {
     "data": {
      "text/plain": [
       "array([209.76056338, 178.875     , 129.14084507, 270.3       ])"
      ]
     },
     "metadata": {},
     "output_type": "display_data"
    },
    {
     "data": {
      "text/plain": [
       "array([3], dtype=uint8)"
      ]
     },
     "metadata": {},
     "output_type": "display_data"
    },
    {
     "data": {
      "text/plain": [
       "array([4, 4])"
      ]
     },
     "metadata": {},
     "output_type": "display_data"
    },
    {
     "data": {
      "text/plain": [
       "array([], dtype=float64)"
      ]
     },
     "metadata": {},
     "output_type": "display_data"
    },
    {
     "data": {
      "text/plain": [
       "array([], dtype=uint8)"
      ]
     },
     "metadata": {},
     "output_type": "display_data"
    },
    {
     "data": {
      "text/plain": [
       "array([4, 8])"
      ]
     },
     "metadata": {},
     "output_type": "display_data"
    },
    {
     "data": {
      "text/plain": [
       "array([271.71830986, 165.625     ,   9.70422535,  17.225     ])"
      ]
     },
     "metadata": {},
     "output_type": "display_data"
    },
    {
     "data": {
      "text/plain": [
       "array([1], dtype=uint8)"
      ]
     },
     "metadata": {},
     "output_type": "display_data"
    },
    {
     "data": {
      "text/plain": [
       "array([ 8, 12])"
      ]
     },
     "metadata": {},
     "output_type": "display_data"
    },
    {
     "data": {
      "text/plain": [
       "array([146.30985915, 136.475     ,  10.45070423,  27.825     ])"
      ]
     },
     "metadata": {},
     "output_type": "display_data"
    },
    {
     "data": {
      "text/plain": [
       "array([2], dtype=uint8)"
      ]
     },
     "metadata": {},
     "output_type": "display_data"
    },
    {
     "data": {
      "text/plain": [
       "array([12, 16])"
      ]
     },
     "metadata": {},
     "output_type": "display_data"
    },
    {
     "data": {
      "text/plain": [
       "array([253.05633803, 180.2       ,   7.46478873,  21.2       ])"
      ]
     },
     "metadata": {},
     "output_type": "display_data"
    },
    {
     "data": {
      "text/plain": [
       "array([1], dtype=uint8)"
      ]
     },
     "metadata": {},
     "output_type": "display_data"
    },
    {
     "data": {
      "text/plain": [
       "array([16, 20])"
      ]
     },
     "metadata": {},
     "output_type": "display_data"
    },
    {
     "data": {
      "text/plain": [
       "array([150.04225352, 135.15      ,  29.11267606, 103.35      ])"
      ]
     },
     "metadata": {},
     "output_type": "display_data"
    },
    {
     "data": {
      "text/plain": [
       "array([1], dtype=uint8)"
      ]
     },
     "metadata": {},
     "output_type": "display_data"
    },
    {
     "data": {
      "text/plain": [
       "array([20, 24])"
      ]
     },
     "metadata": {},
     "output_type": "display_data"
    },
    {
     "data": {
      "text/plain": [
       "array([158.25352113, 180.2       ,  47.02816901,  26.5       ])"
      ]
     },
     "metadata": {},
     "output_type": "display_data"
    },
    {
     "data": {
      "text/plain": [
       "array([2], dtype=uint8)"
      ]
     },
     "metadata": {},
     "output_type": "display_data"
    },
    {
     "data": {
      "text/plain": [
       "array([24, 28])"
      ]
     },
     "metadata": {},
     "output_type": "display_data"
    },
    {
     "data": {
      "text/plain": [
       "array([170.1971831 , 162.975     ,  89.57746479, 119.25      ])"
      ]
     },
     "metadata": {},
     "output_type": "display_data"
    },
    {
     "data": {
      "text/plain": [
       "array([4], dtype=uint8)"
      ]
     },
     "metadata": {},
     "output_type": "display_data"
    },
    {
     "data": {
      "text/plain": [
       "array([28, 32])"
      ]
     },
     "metadata": {},
     "output_type": "display_data"
    },
    {
     "data": {
      "text/plain": [
       "array([161.23943662, 143.1       ,  33.5915493 ,  49.025     ])"
      ]
     },
     "metadata": {},
     "output_type": "display_data"
    },
    {
     "data": {
      "text/plain": [
       "array([4], dtype=uint8)"
      ]
     },
     "metadata": {},
     "output_type": "display_data"
    },
    {
     "data": {
      "text/plain": [
       "array([32, 36])"
      ]
     },
     "metadata": {},
     "output_type": "display_data"
    },
    {
     "data": {
      "text/plain": [
       "array([169.45070423, 186.825     ,   5.22535211,  14.575     ])"
      ]
     },
     "metadata": {},
     "output_type": "display_data"
    },
    {
     "data": {
      "text/plain": [
       "array([2], dtype=uint8)"
      ]
     },
     "metadata": {},
     "output_type": "display_data"
    }
   ],
   "source": [
    "arr = np.empty((0), dtype = np.float64)\n",
    "elements = np.empty((len(boundings), 2), dtype = np.int32)\n",
    "arr_l = np.empty(0, dtype = np.ubyte)\n",
    "\n",
    "previous = 0\n",
    "\n",
    "for i, vertex in enumerate(boundings):\n",
    "    \n",
    "    elements[i][0] = previous\n",
    "    \n",
    "    for label, mobbox in enumerate(vertex):\n",
    "        \n",
    "        arr = np.hstack((arr, np.asarray(mobbox).flatten()))\n",
    "        previous += 4 * len(mobbox)\n",
    "        \n",
    "        arr_l = np.hstack((arr_l, np.asarray([label+1]  * len(mobbox), dtype=np.ubyte)))\n",
    "        \n",
    "    elements[i][1] = previous\n",
    "    \n",
    "for i in range(10):\n",
    "    \n",
    "    display(elements[i], arr[ elements[i,0]:elements[i,1]], arr_l[ elements[i,0]>>2:elements[i,1]>>2])\n",
    "\n"
   ]
  },
  {
   "cell_type": "code",
   "execution_count": null,
   "metadata": {},
   "outputs": [],
   "source": []
  }
 ],
 "metadata": {
  "interpreter": {
   "hash": "77916ee6c1d302d908ec7f71d884f7d344a1a5ea0ecd00dba1ddfdfbd7d381d6"
  },
  "kernelspec": {
   "display_name": "Python 3.8.8 ('base')",
   "language": "python",
   "name": "python3"
  },
  "language_info": {
   "codemirror_mode": {
    "name": "ipython",
    "version": 3
   },
   "file_extension": ".py",
   "mimetype": "text/x-python",
   "name": "python",
   "nbconvert_exporter": "python",
   "pygments_lexer": "ipython3",
   "version": "3.8.8"
  },
  "orig_nbformat": 4
 },
 "nbformat": 4,
 "nbformat_minor": 2
}
