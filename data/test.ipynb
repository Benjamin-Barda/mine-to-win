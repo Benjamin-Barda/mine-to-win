{
 "cells": [
  {
   "cell_type": "code",
   "execution_count": 14,
   "metadata": {},
   "outputs": [],
   "source": [
    "names =  [f\"..\\\\jsons\\\\rePARSEDOUTPUT-creeper{i}.json\" for i in range(1, 11)]\n",
    "names += [f\"..\\\\jsons\\\\rePARSEDOUTPUT-pig{i}.json\" for i in range(1, 11)]\n",
    "names += [f\"..\\\\jsons\\\\rePARSEDOUTPUT-zombie{i}.json\" for i in range(1, 10)]\n",
    "names += [f\"..\\\\jsons\\\\rePARSEDOUTPUT-sheep{i}.json\" for i in range(1, 10)]"
   ]
  },
  {
   "cell_type": "code",
   "execution_count": 15,
   "metadata": {},
   "outputs": [],
   "source": [
    "import pandas as pd"
   ]
  },
  {
   "cell_type": "code",
   "execution_count": 16,
   "metadata": {},
   "outputs": [
    {
     "data": {
      "text/plain": [
       "['..\\\\jsons\\\\rePARSEDOUTPUT-creeper1.json',\n",
       " '..\\\\jsons\\\\rePARSEDOUTPUT-creeper2.json',\n",
       " '..\\\\jsons\\\\rePARSEDOUTPUT-creeper3.json',\n",
       " '..\\\\jsons\\\\rePARSEDOUTPUT-creeper4.json',\n",
       " '..\\\\jsons\\\\rePARSEDOUTPUT-creeper5.json',\n",
       " '..\\\\jsons\\\\rePARSEDOUTPUT-creeper6.json',\n",
       " '..\\\\jsons\\\\rePARSEDOUTPUT-creeper7.json',\n",
       " '..\\\\jsons\\\\rePARSEDOUTPUT-creeper8.json',\n",
       " '..\\\\jsons\\\\rePARSEDOUTPUT-creeper9.json',\n",
       " '..\\\\jsons\\\\rePARSEDOUTPUT-creeper10.json',\n",
       " '..\\\\jsons\\\\rePARSEDOUTPUT-pig1.json',\n",
       " '..\\\\jsons\\\\rePARSEDOUTPUT-pig2.json',\n",
       " '..\\\\jsons\\\\rePARSEDOUTPUT-pig3.json',\n",
       " '..\\\\jsons\\\\rePARSEDOUTPUT-pig4.json',\n",
       " '..\\\\jsons\\\\rePARSEDOUTPUT-pig5.json',\n",
       " '..\\\\jsons\\\\rePARSEDOUTPUT-pig6.json',\n",
       " '..\\\\jsons\\\\rePARSEDOUTPUT-pig7.json',\n",
       " '..\\\\jsons\\\\rePARSEDOUTPUT-pig8.json',\n",
       " '..\\\\jsons\\\\rePARSEDOUTPUT-pig9.json',\n",
       " '..\\\\jsons\\\\rePARSEDOUTPUT-pig10.json',\n",
       " '..\\\\jsons\\\\rePARSEDOUTPUT-zombie1.json',\n",
       " '..\\\\jsons\\\\rePARSEDOUTPUT-zombie2.json',\n",
       " '..\\\\jsons\\\\rePARSEDOUTPUT-zombie3.json',\n",
       " '..\\\\jsons\\\\rePARSEDOUTPUT-zombie4.json',\n",
       " '..\\\\jsons\\\\rePARSEDOUTPUT-zombie5.json',\n",
       " '..\\\\jsons\\\\rePARSEDOUTPUT-zombie6.json',\n",
       " '..\\\\jsons\\\\rePARSEDOUTPUT-zombie7.json',\n",
       " '..\\\\jsons\\\\rePARSEDOUTPUT-zombie8.json',\n",
       " '..\\\\jsons\\\\rePARSEDOUTPUT-zombie9.json',\n",
       " '..\\\\jsons\\\\rePARSEDOUTPUT-sheep1.json',\n",
       " '..\\\\jsons\\\\rePARSEDOUTPUT-sheep2.json',\n",
       " '..\\\\jsons\\\\rePARSEDOUTPUT-sheep3.json',\n",
       " '..\\\\jsons\\\\rePARSEDOUTPUT-sheep4.json',\n",
       " '..\\\\jsons\\\\rePARSEDOUTPUT-sheep5.json',\n",
       " '..\\\\jsons\\\\rePARSEDOUTPUT-sheep6.json',\n",
       " '..\\\\jsons\\\\rePARSEDOUTPUT-sheep7.json',\n",
       " '..\\\\jsons\\\\rePARSEDOUTPUT-sheep8.json',\n",
       " '..\\\\jsons\\\\rePARSEDOUTPUT-sheep9.json']"
      ]
     },
     "execution_count": 16,
     "metadata": {},
     "output_type": "execute_result"
    }
   ],
   "source": [
    "names"
   ]
  },
  {
   "cell_type": "code",
   "execution_count": 17,
   "metadata": {},
   "outputs": [],
   "source": [
    "df_iter = (pd.read_json(src).T for src in names)\n",
    "df = pd.concat(df_iter).T.drop([\"purge\", \"written\"]).T.sample(frac=1)"
   ]
  },
  {
   "cell_type": "code",
   "execution_count": 18,
   "metadata": {},
   "outputs": [
    {
     "data": {
      "text/html": [
       "<div>\n",
       "<style scoped>\n",
       "    .dataframe tbody tr th:only-of-type {\n",
       "        vertical-align: middle;\n",
       "    }\n",
       "\n",
       "    .dataframe tbody tr th {\n",
       "        vertical-align: top;\n",
       "    }\n",
       "\n",
       "    .dataframe thead th {\n",
       "        text-align: right;\n",
       "    }\n",
       "</style>\n",
       "<table border=\"1\" class=\"dataframe\">\n",
       "  <thead>\n",
       "    <tr style=\"text-align: right;\">\n",
       "      <th></th>\n",
       "      <th>Creeper</th>\n",
       "      <th>Pig</th>\n",
       "      <th>Zombie</th>\n",
       "      <th>Sheep</th>\n",
       "    </tr>\n",
       "  </thead>\n",
       "  <tbody>\n",
       "    <tr>\n",
       "      <th>sheep10-00033.png</th>\n",
       "      <td>[]</td>\n",
       "      <td>[]</td>\n",
       "      <td>[]</td>\n",
       "      <td>[]</td>\n",
       "    </tr>\n",
       "    <tr>\n",
       "      <th>creeper10-00046.png</th>\n",
       "      <td>[[130.6338028169014, 168.275, 13.4366197183098...</td>\n",
       "      <td>[]</td>\n",
       "      <td>[]</td>\n",
       "      <td>[]</td>\n",
       "    </tr>\n",
       "    <tr>\n",
       "      <th>creeper8-00069.png</th>\n",
       "      <td>[[254.5492957746479, 217.29999999999998, 44.78...</td>\n",
       "      <td>[]</td>\n",
       "      <td>[]</td>\n",
       "      <td>[]</td>\n",
       "    </tr>\n",
       "    <tr>\n",
       "      <th>creeper1-00009.png</th>\n",
       "      <td>[[162.73239436619718, 174.9, 25.38028169014084...</td>\n",
       "      <td>[]</td>\n",
       "      <td>[]</td>\n",
       "      <td>[]</td>\n",
       "    </tr>\n",
       "    <tr>\n",
       "      <th>sheep7-00005.png</th>\n",
       "      <td>[]</td>\n",
       "      <td>[]</td>\n",
       "      <td>[]</td>\n",
       "      <td>[[179.1549295774648, 215.975, 20.1549295774647...</td>\n",
       "    </tr>\n",
       "    <tr>\n",
       "      <th>...</th>\n",
       "      <td>...</td>\n",
       "      <td>...</td>\n",
       "      <td>...</td>\n",
       "      <td>...</td>\n",
       "    </tr>\n",
       "    <tr>\n",
       "      <th>sheep5-00048.png</th>\n",
       "      <td>[]</td>\n",
       "      <td>[]</td>\n",
       "      <td>[]</td>\n",
       "      <td>[[166.46478873239437, 152.375, 19.408450704225...</td>\n",
       "    </tr>\n",
       "    <tr>\n",
       "      <th>creeper10-00024.png</th>\n",
       "      <td>[[300.0845070422535, 172.25, 32.09859154929577...</td>\n",
       "      <td>[]</td>\n",
       "      <td>[]</td>\n",
       "      <td>[]</td>\n",
       "    </tr>\n",
       "    <tr>\n",
       "      <th>zombie4-00041.png</th>\n",
       "      <td>[]</td>\n",
       "      <td>[]</td>\n",
       "      <td>[[191.8450704225352, 125.875, 12.6901408450704...</td>\n",
       "      <td>[]</td>\n",
       "    </tr>\n",
       "    <tr>\n",
       "      <th>creeper8-00023.png</th>\n",
       "      <td>[]</td>\n",
       "      <td>[]</td>\n",
       "      <td>[]</td>\n",
       "      <td>[]</td>\n",
       "    </tr>\n",
       "    <tr>\n",
       "      <th>sheep6-00032.png</th>\n",
       "      <td>[]</td>\n",
       "      <td>[]</td>\n",
       "      <td>[]</td>\n",
       "      <td>[[173.1830985915493, 87.45, 16.422535211267604...</td>\n",
       "    </tr>\n",
       "  </tbody>\n",
       "</table>\n",
       "<p>3028 rows × 4 columns</p>\n",
       "</div>"
      ],
      "text/plain": [
       "                                                               Creeper Pig  \\\n",
       "sheep10-00033.png                                                   []  []   \n",
       "creeper10-00046.png  [[130.6338028169014, 168.275, 13.4366197183098...  []   \n",
       "creeper8-00069.png   [[254.5492957746479, 217.29999999999998, 44.78...  []   \n",
       "creeper1-00009.png   [[162.73239436619718, 174.9, 25.38028169014084...  []   \n",
       "sheep7-00005.png                                                    []  []   \n",
       "...                                                                ...  ..   \n",
       "sheep5-00048.png                                                    []  []   \n",
       "creeper10-00024.png  [[300.0845070422535, 172.25, 32.09859154929577...  []   \n",
       "zombie4-00041.png                                                   []  []   \n",
       "creeper8-00023.png                                                  []  []   \n",
       "sheep6-00032.png                                                    []  []   \n",
       "\n",
       "                                                                Zombie  \\\n",
       "sheep10-00033.png                                                   []   \n",
       "creeper10-00046.png                                                 []   \n",
       "creeper8-00069.png                                                  []   \n",
       "creeper1-00009.png                                                  []   \n",
       "sheep7-00005.png                                                    []   \n",
       "...                                                                ...   \n",
       "sheep5-00048.png                                                    []   \n",
       "creeper10-00024.png                                                 []   \n",
       "zombie4-00041.png    [[191.8450704225352, 125.875, 12.6901408450704...   \n",
       "creeper8-00023.png                                                  []   \n",
       "sheep6-00032.png                                                    []   \n",
       "\n",
       "                                                                 Sheep  \n",
       "sheep10-00033.png                                                   []  \n",
       "creeper10-00046.png                                                 []  \n",
       "creeper8-00069.png                                                  []  \n",
       "creeper1-00009.png                                                  []  \n",
       "sheep7-00005.png     [[179.1549295774648, 215.975, 20.1549295774647...  \n",
       "...                                                                ...  \n",
       "sheep5-00048.png     [[166.46478873239437, 152.375, 19.408450704225...  \n",
       "creeper10-00024.png                                                 []  \n",
       "zombie4-00041.png                                                   []  \n",
       "creeper8-00023.png                                                  []  \n",
       "sheep6-00032.png     [[173.1830985915493, 87.45, 16.422535211267604...  \n",
       "\n",
       "[3028 rows x 4 columns]"
      ]
     },
     "execution_count": 18,
     "metadata": {},
     "output_type": "execute_result"
    }
   ],
   "source": [
    "df"
   ]
  },
  {
   "cell_type": "code",
   "execution_count": 22,
   "metadata": {},
   "outputs": [],
   "source": [
    "import cv2\n",
    "import numpy as np\n",
    "\n",
    "\n",
    "images = np.asarray(\n",
    "   [cv2.imread(\"..\\\\imgs\\\\frames_new\\\\\" + i) \n",
    "   for i in df.index]\n",
    "   )\n",
    "images = np.asarray(images, dtype = \"uint8\")\n",
    "labels = np.asarray( 4 * df[\"Sheep\"].astype(bool).astype(int) + 3 * df[\"Zombie\"].astype(bool).astype(int)\n",
    "                   + 2 * df[\"Pig\"].astype(bool).astype(int) + df[\"Creeper\"].astype(bool).astype(int), dtype=\"int64\")\n",
    "boundings = list(zip(df[\"Creeper\"], df[\"Pig\"], df[\"Zombie\"], df[\"Sheep\"]))"
   ]
  },
  {
   "cell_type": "code",
   "execution_count": 57,
   "metadata": {},
   "outputs": [
    {
     "data": {
      "text/plain": [
       "array([0, 0])"
      ]
     },
     "metadata": {},
     "output_type": "display_data"
    },
    {
     "data": {
      "text/plain": [
       "array([], dtype=float64)"
      ]
     },
     "metadata": {},
     "output_type": "display_data"
    },
    {
     "data": {
      "text/plain": [
       "array([], dtype=uint8)"
      ]
     },
     "metadata": {},
     "output_type": "display_data"
    },
    {
     "data": {
      "text/plain": [
       "array([0, 4])"
      ]
     },
     "metadata": {},
     "output_type": "display_data"
    },
    {
     "data": {
      "text/plain": [
       "array([130.63380282, 168.275     ,  13.43661972,  63.6       ])"
      ]
     },
     "metadata": {},
     "output_type": "display_data"
    },
    {
     "data": {
      "text/plain": [
       "array([1], dtype=uint8)"
      ]
     },
     "metadata": {},
     "output_type": "display_data"
    },
    {
     "data": {
      "text/plain": [
       "array([4, 8])"
      ]
     },
     "metadata": {},
     "output_type": "display_data"
    },
    {
     "data": {
      "text/plain": [
       "array([254.54929577, 217.3       ,  44.78873239, 124.55      ])"
      ]
     },
     "metadata": {},
     "output_type": "display_data"
    },
    {
     "data": {
      "text/plain": [
       "array([1], dtype=uint8)"
      ]
     },
     "metadata": {},
     "output_type": "display_data"
    },
    {
     "data": {
      "text/plain": [
       "array([ 8, 12])"
      ]
     },
     "metadata": {},
     "output_type": "display_data"
    },
    {
     "data": {
      "text/plain": [
       "array([162.73239437, 174.9       ,  25.38028169, 116.6       ])"
      ]
     },
     "metadata": {},
     "output_type": "display_data"
    },
    {
     "data": {
      "text/plain": [
       "array([1], dtype=uint8)"
      ]
     },
     "metadata": {},
     "output_type": "display_data"
    },
    {
     "data": {
      "text/plain": [
       "array([12, 16])"
      ]
     },
     "metadata": {},
     "output_type": "display_data"
    },
    {
     "data": {
      "text/plain": [
       "array([179.15492958, 215.975     ,  20.15492958,  37.1       ])"
      ]
     },
     "metadata": {},
     "output_type": "display_data"
    },
    {
     "data": {
      "text/plain": [
       "array([4], dtype=uint8)"
      ]
     },
     "metadata": {},
     "output_type": "display_data"
    },
    {
     "data": {
      "text/plain": [
       "array([16, 20])"
      ]
     },
     "metadata": {},
     "output_type": "display_data"
    },
    {
     "data": {
      "text/plain": [
       "array([156.76056338, 246.45      ,  55.23943662, 100.7       ])"
      ]
     },
     "metadata": {},
     "output_type": "display_data"
    },
    {
     "data": {
      "text/plain": [
       "array([2], dtype=uint8)"
      ]
     },
     "metadata": {},
     "output_type": "display_data"
    },
    {
     "data": {
      "text/plain": [
       "array([20, 24])"
      ]
     },
     "metadata": {},
     "output_type": "display_data"
    },
    {
     "data": {
      "text/plain": [
       "array([85.84507042, 99.375     , 32.09859155, 86.125     ])"
      ]
     },
     "metadata": {},
     "output_type": "display_data"
    },
    {
     "data": {
      "text/plain": [
       "array([3], dtype=uint8)"
      ]
     },
     "metadata": {},
     "output_type": "display_data"
    },
    {
     "data": {
      "text/plain": [
       "array([24, 28])"
      ]
     },
     "metadata": {},
     "output_type": "display_data"
    },
    {
     "data": {
      "text/plain": [
       "array([157.50704225, 157.675     ,   9.70422535,  10.6       ])"
      ]
     },
     "metadata": {},
     "output_type": "display_data"
    },
    {
     "data": {
      "text/plain": [
       "array([2], dtype=uint8)"
      ]
     },
     "metadata": {},
     "output_type": "display_data"
    },
    {
     "data": {
      "text/plain": [
       "array([28, 32])"
      ]
     },
     "metadata": {},
     "output_type": "display_data"
    },
    {
     "data": {
      "text/plain": [
       "array([159.        , 106.        ,  23.88732394,  29.15      ])"
      ]
     },
     "metadata": {},
     "output_type": "display_data"
    },
    {
     "data": {
      "text/plain": [
       "array([2], dtype=uint8)"
      ]
     },
     "metadata": {},
     "output_type": "display_data"
    },
    {
     "data": {
      "text/plain": [
       "array([32, 36])"
      ]
     },
     "metadata": {},
     "output_type": "display_data"
    },
    {
     "data": {
      "text/plain": [
       "array([247.08450704, 141.775     ,  35.83098592,  88.775     ])"
      ]
     },
     "metadata": {},
     "output_type": "display_data"
    },
    {
     "data": {
      "text/plain": [
       "array([3], dtype=uint8)"
      ]
     },
     "metadata": {},
     "output_type": "display_data"
    }
   ],
   "source": [
    "arr = np.empty((0), dtype = np.float64)\n",
    "elements = np.empty((len(boundings), 2), dtype = np.int32)\n",
    "arr_l = np.empty(0, dtype = np.ubyte)\n",
    "\n",
    "previous = 0\n",
    "\n",
    "for i, vertex in enumerate(boundings):\n",
    "    \n",
    "    elements[i][0] = previous\n",
    "    \n",
    "    for label, mobbox in enumerate(vertex):\n",
    "        \n",
    "        arr = np.hstack((arr, np.asarray(mobbox).flatten()))\n",
    "        previous += 4 * len(mobbox)\n",
    "        \n",
    "        arr_l = np.hstack((arr_l, np.asarray([label+1]  * len(mobbox), dtype=np.ubyte)))\n",
    "        \n",
    "    elements[i][1] = previous\n",
    "    \n",
    "for i in range(10):\n",
    "    \n",
    "    display(elements[i], arr[ elements[i,0]:elements[i,1]], arr_l[ elements[i,0]>>2:elements[i,1]>>2])\n",
    "\n"
   ]
  },
  {
   "cell_type": "code",
   "execution_count": null,
   "metadata": {},
   "outputs": [],
   "source": []
  }
 ],
 "metadata": {
  "interpreter": {
   "hash": "77916ee6c1d302d908ec7f71d884f7d344a1a5ea0ecd00dba1ddfdfbd7d381d6"
  },
  "kernelspec": {
   "display_name": "Python 3.8.8 ('base')",
   "language": "python",
   "name": "python3"
  },
  "language_info": {
   "codemirror_mode": {
    "name": "ipython",
    "version": 3
   },
   "file_extension": ".py",
   "mimetype": "text/x-python",
   "name": "python",
   "nbconvert_exporter": "python",
   "pygments_lexer": "ipython3",
   "version": "3.8.8"
  },
  "orig_nbformat": 4
 },
 "nbformat": 4,
 "nbformat_minor": 2
}
