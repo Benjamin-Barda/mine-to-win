{
 "cells": [
  {
   "cell_type": "code",
   "execution_count": 2,
   "metadata": {},
   "outputs": [
    {
     "ename": "ModuleNotFoundError",
     "evalue": "No module named 'utils.config'",
     "output_type": "error",
     "traceback": [
      "\u001b[1;31m---------------------------------------------------------------------------\u001b[0m",
      "\u001b[1;31mModuleNotFoundError\u001b[0m                       Traceback (most recent call last)",
      "\u001b[1;32md:\\Repos\\mine-to-win\\models\\regionProposal\\test.ipynb Cell 1'\u001b[0m in \u001b[0;36m<cell line: 1>\u001b[1;34m()\u001b[0m\n\u001b[1;32m----> <a href='vscode-notebook-cell:/d%3A/Repos/mine-to-win/models/regionProposal/test.ipynb#ch0000000?line=0'>1</a>\u001b[0m \u001b[39mimport\u001b[39;00m \u001b[39mutils\u001b[39;00m\u001b[39m.\u001b[39;00m\u001b[39manchorUtils\u001b[39;00m\n\u001b[0;32m      <a href='vscode-notebook-cell:/d%3A/Repos/mine-to-win/models/regionProposal/test.ipynb#ch0000000?line=1'>2</a>\u001b[0m \u001b[39mimport\u001b[39;00m \u001b[39mtorch\u001b[39;00m\n",
      "File \u001b[1;32md:\\Repos\\mine-to-win\\models\\regionProposal\\utils\\anchorUtils.py:7\u001b[0m, in \u001b[0;36m<module>\u001b[1;34m\u001b[0m\n\u001b[0;32m      <a href='file:///d%3A/Repos/mine-to-win/models/regionProposal/utils/anchorUtils.py?line=3'>4</a>\u001b[0m \u001b[39mimport\u001b[39;00m \u001b[39mos\u001b[39;00m\n\u001b[0;32m      <a href='file:///d%3A/Repos/mine-to-win/models/regionProposal/utils/anchorUtils.py?line=5'>6</a>\u001b[0m sys\u001b[39m.\u001b[39mpath\u001b[39m.\u001b[39mappend(os\u001b[39m.\u001b[39mpath\u001b[39m.\u001b[39mjoin(os\u001b[39m.\u001b[39mpath\u001b[39m.\u001b[39mdirname(\u001b[39m__file__\u001b[39m), \u001b[39m\"\u001b[39m\u001b[39m../../\u001b[39m\u001b[39m\"\u001b[39m))\n\u001b[1;32m----> <a href='file:///d%3A/Repos/mine-to-win/models/regionProposal/utils/anchorUtils.py?line=6'>7</a>\u001b[0m \u001b[39mfrom\u001b[39;00m \u001b[39mutils\u001b[39;00m\u001b[39m.\u001b[39;00m\u001b[39mconfig\u001b[39;00m \u001b[39mimport\u001b[39;00m cfg\n\u001b[0;32m      <a href='file:///d%3A/Repos/mine-to-win/models/regionProposal/utils/anchorUtils.py?line=8'>9</a>\u001b[0m \u001b[39mdef\u001b[39;00m \u001b[39mgenerate_anchors\u001b[39m(base, ratios, scales):\n\u001b[0;32m     <a href='file:///d%3A/Repos/mine-to-win/models/regionProposal/utils/anchorUtils.py?line=9'>10</a>\u001b[0m     \u001b[39m\"\"\"\u001b[39;00m\n\u001b[0;32m     <a href='file:///d%3A/Repos/mine-to-win/models/regionProposal/utils/anchorUtils.py?line=10'>11</a>\u001b[0m \u001b[39m    args :\u001b[39;00m\n\u001b[0;32m     <a href='file:///d%3A/Repos/mine-to-win/models/regionProposal/utils/anchorUtils.py?line=11'>12</a>\u001b[0m \u001b[39m        base   : int : W and H of windows\u001b[39;00m\n\u001b[1;32m   (...)\u001b[0m\n\u001b[0;32m     <a href='file:///d%3A/Repos/mine-to-win/models/regionProposal/utils/anchorUtils.py?line=15'>16</a>\u001b[0m \u001b[39m        anchors Tensor : (A,4) {x_center, y_center, Width, height}\u001b[39;00m\n\u001b[0;32m     <a href='file:///d%3A/Repos/mine-to-win/models/regionProposal/utils/anchorUtils.py?line=16'>17</a>\u001b[0m \u001b[39m    \"\"\"\u001b[39;00m\n",
      "\u001b[1;31mModuleNotFoundError\u001b[0m: No module named 'utils.config'"
     ]
    }
   ],
   "source": [
    "import utils.anchorUtils\n",
    "import torch"
   ]
  },
  {
   "cell_type": "code",
   "execution_count": null,
   "metadata": {},
   "outputs": [],
   "source": []
  }
 ],
 "metadata": {
  "interpreter": {
   "hash": "77916ee6c1d302d908ec7f71d884f7d344a1a5ea0ecd00dba1ddfdfbd7d381d6"
  },
  "kernelspec": {
   "display_name": "Python 3.8.8 ('base')",
   "language": "python",
   "name": "python3"
  },
  "language_info": {
   "codemirror_mode": {
    "name": "ipython",
    "version": 3
   },
   "file_extension": ".py",
   "mimetype": "text/x-python",
   "name": "python",
   "nbconvert_exporter": "python",
   "pygments_lexer": "ipython3",
   "version": "3.8.8"
  },
  "orig_nbformat": 4
 },
 "nbformat": 4,
 "nbformat_minor": 2
}
